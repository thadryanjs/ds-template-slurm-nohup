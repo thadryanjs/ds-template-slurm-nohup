{
 "cells": [
  {
   "cell_type": "markdown",
   "id": "0b3ac94e",
   "metadata": {
    "lines_to_next_cell": 2
   },
   "source": [
    "# Script"
   ]
  },
  {
   "cell_type": "code",
   "execution_count": 1,
   "id": "0a473818",
   "metadata": {
    "execution": {
     "iopub.execute_input": "2024-10-06T11:26:27.380986Z",
     "iopub.status.busy": "2024-10-06T11:26:27.380828Z",
     "iopub.status.idle": "2024-10-06T11:26:27.384703Z",
     "shell.execute_reply": "2024-10-06T11:26:27.384316Z"
    },
    "title": "[code]"
   },
   "outputs": [],
   "source": [
    "def hello():\n",
    "    return \"Hello, World!\""
   ]
  }
 ],
 "metadata": {
  "jupytext": {
   "cell_metadata_filter": "title,-all",
   "formats": "ipynb,py:percent"
  },
  "kernelspec": {
   "display_name": "Python 3 (ipykernel)",
   "language": "python",
   "name": "python3"
  },
  "language_info": {
   "codemirror_mode": {
    "name": "ipython",
    "version": 3
   },
   "file_extension": ".py",
   "mimetype": "text/x-python",
   "name": "python",
   "nbconvert_exporter": "python",
   "pygments_lexer": "ipython3",
   "version": "3.12.3"
  }
 },
 "nbformat": 4,
 "nbformat_minor": 5
}
