{
 "cells": [
  {
   "cell_type": "markdown",
   "id": "54e7fafc",
   "metadata": {},
   "source": [
    "# Script"
   ]
  },
  {
   "cell_type": "code",
   "execution_count": 1,
   "id": "821656ac",
   "metadata": {
    "execution": {
     "iopub.execute_input": "2024-10-06T11:26:24.455413Z",
     "iopub.status.busy": "2024-10-06T11:26:24.452893Z",
     "iopub.status.idle": "2024-10-06T11:26:24.477855Z",
     "shell.execute_reply": "2024-10-06T11:26:24.476600Z"
    },
    "title": "[code]"
   },
   "outputs": [],
   "source": [
    "hello <- function() {\n",
    "  \"Hello, world!\"\n",
    "}"
   ]
  }
 ],
 "metadata": {
  "jupytext": {
   "cell_metadata_filter": "title,-all",
   "formats": "ipynb,R:percent"
  },
  "kernelspec": {
   "display_name": "R",
   "language": "R",
   "name": "ir"
  },
  "language_info": {
   "codemirror_mode": "r",
   "file_extension": ".r",
   "mimetype": "text/x-r-source",
   "name": "R",
   "pygments_lexer": "r",
   "version": "4.3.3"
  }
 },
 "nbformat": 4,
 "nbformat_minor": 5
}
